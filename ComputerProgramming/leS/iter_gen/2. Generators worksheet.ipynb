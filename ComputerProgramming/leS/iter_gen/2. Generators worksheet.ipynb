{
 "cells": [
  {
   "cell_type": "markdown",
   "metadata": {},
   "source": [
    "### Generators in Python - Step by Step Guide\n",
    "\n",
    "# 1. Understanding Generators\n",
    "\n",
    "## 1.1 What is a Generator?\n",
    "# A generator is a function that returns an iterator and produces values using `yield` instead of `return`."
   ]
  },
  {
   "cell_type": "code",
   "execution_count": null,
   "metadata": {},
   "outputs": [],
   "source": [
    "def simple_generator():\n",
    "    yield 1\n",
    "    yield 2\n",
    "    yield 3\n",
    "\n",
    "# Using the generator\n",
    "for value in simple_generator():\n",
    "    print(value)  # Output: 1, 2, 3"
   ]
  },
  {
   "cell_type": "markdown",
   "metadata": {},
   "source": [
    "# 2. Difference Between Generators and Iterators\n",
    "\n",
    "## 2.1 Using a Generator Instead of a Class-based Iterator"
   ]
  },
  {
   "cell_type": "code",
   "execution_count": null,
   "metadata": {},
   "outputs": [],
   "source": [
    "class CounterIterator:\n",
    "    def __init__(self, low, high):\n",
    "        self.current = low\n",
    "        self.high = high\n",
    "\n",
    "    def __iter__(self):\n",
    "        return self\n",
    "\n",
    "    def __next__(self):\n",
    "        if self.current > self.high:\n",
    "            raise StopIteration\n",
    "        self.current += 1\n",
    "        return self.current - 1\n",
    "\n",
    "for number in CounterIterator(1, 5):\n",
    "    print(number)  # Output: 1, 2, 3, 4, 5"
   ]
  },
  {
   "cell_type": "code",
   "execution_count": null,
   "metadata": {},
   "outputs": [],
   "source": [
    "# Equivalent Generator Function\n",
    "def counter_generator(low, high):\n",
    "    while low <= high:\n",
    "        yield low\n",
    "        low += 1\n",
    "\n",
    "for number in counter_generator(1, 5):\n",
    "    print(number)  # Output: 1, 2, 3, 4, 5"
   ]
  },
  {
   "cell_type": "markdown",
   "metadata": {},
   "source": [
    "# 3. Using Generators for Infinite Sequences"
   ]
  },
  {
   "cell_type": "code",
   "execution_count": 1,
   "metadata": {},
   "outputs": [
    {
     "name": "stdout",
     "output_type": "stream",
     "text": [
      "0\n",
      "1\n",
      "2\n"
     ]
    }
   ],
   "source": [
    "def infinite_sequence():\n",
    "    num = 0\n",
    "    while True:\n",
    "        yield num\n",
    "        num += 1\n",
    "\n",
    "# Demonstrating Infinite Generator\n",
    "inf_gen = infinite_sequence()\n",
    "print(next(inf_gen))  # Output: 0\n",
    "print(next(inf_gen))  # Output: 1\n",
    "print(next(inf_gen))  # Output: 2"
   ]
  },
  {
   "cell_type": "markdown",
   "metadata": {},
   "source": [
    "# 4. Generator Expressions"
   ]
  },
  {
   "cell_type": "code",
   "execution_count": null,
   "metadata": {},
   "outputs": [],
   "source": [
    "# using list comprehension\n",
    "gen_expr = (x * x for x in range(5))\n",
    "\n",
    "print(next(gen_expr))  # Output: 0\n",
    "print(next(gen_expr))  # Output: 1\n",
    "print(next(gen_expr))  # Output: 4"
   ]
  },
  {
   "cell_type": "markdown",
   "metadata": {},
   "source": [
    "\n",
    "# 5. Introduction to `itertools`\n",
    "# `itertools` is a standard Python module that provides a set of fast, memory-efficient tools for working with iterators.\n",
    "# It includes functions for creating infinite iterators, combinatorics, and efficient looping.\n"
   ]
  },
  {
   "cell_type": "code",
   "execution_count": 5,
   "metadata": {},
   "outputs": [],
   "source": [
    "import itertools"
   ]
  },
  {
   "cell_type": "markdown",
   "metadata": {},
   "source": [
    "## 5.1 Infinite Iterators\n",
    "# Cycle through a sequence infinitely:"
   ]
  },
  {
   "cell_type": "code",
   "execution_count": 11,
   "metadata": {},
   "outputs": [
    {
     "name": "stdout",
     "output_type": "stream",
     "text": [
      "red\n",
      "blue\n",
      "green\n",
      "red\n"
     ]
    }
   ],
   "source": [
    "colors = itertools.cycle(['red', 'blue', 'green'])\n",
    "print(next(colors))  # Output: 'red'\n",
    "print(next(colors))  # Output: 'blue'\n",
    "print(next(colors))  # Output: 'green'\n",
    "print(next(colors))  # Output: 'red' (repeats)"
   ]
  },
  {
   "cell_type": "markdown",
   "metadata": {},
   "source": [
    "# Count infinitely from a start value:\n"
   ]
  },
  {
   "cell_type": "code",
   "execution_count": 7,
   "metadata": {},
   "outputs": [
    {
     "name": "stdout",
     "output_type": "stream",
     "text": [
      "10\n",
      "12\n",
      "14\n"
     ]
    }
   ],
   "source": [
    "counter = itertools.count(start=10, step=2)\n",
    "print(next(counter))  # Output: 10\n",
    "print(next(counter))  # Output: 12\n",
    "print(next(counter))  # Output: 14"
   ]
  },
  {
   "cell_type": "markdown",
   "metadata": {},
   "source": [
    "## 5.2 Combinatorics with Itertools\n",
    "# Generate permutations, combinations, and product from an iterable."
   ]
  },
  {
   "cell_type": "code",
   "execution_count": 8,
   "metadata": {},
   "outputs": [
    {
     "name": "stdout",
     "output_type": "stream",
     "text": [
      "[(1, 2, 3), (1, 3, 2), (2, 1, 3), (2, 3, 1), (3, 1, 2), (3, 2, 1)]\n"
     ]
    }
   ],
   "source": [
    "# Get all permutations of a list\n",
    "print(list(itertools.permutations([1, 2, 3])))"
   ]
  },
  {
   "cell_type": "code",
   "execution_count": 9,
   "metadata": {},
   "outputs": [
    {
     "name": "stdout",
     "output_type": "stream",
     "text": [
      "[(1, 2), (1, 3), (2, 3)]\n"
     ]
    }
   ],
   "source": [
    "\n",
    "# Get all combinations of length 2\n",
    "print(list(itertools.combinations([1, 2, 3], 2)))\n"
   ]
  },
  {
   "cell_type": "code",
   "execution_count": 10,
   "metadata": {},
   "outputs": [
    {
     "name": "stdout",
     "output_type": "stream",
     "text": [
      "[(1, 'A'), (1, 'B'), (2, 'A'), (2, 'B')]\n"
     ]
    }
   ],
   "source": [
    "# Cartesian product of two lists\n",
    "print(list(itertools.product([1, 2], ['A', 'B'])))"
   ]
  },
  {
   "cell_type": "markdown",
   "metadata": {},
   "source": [
    "## 5.3 More in `itertools`"
   ]
  },
  {
   "cell_type": "code",
   "execution_count": null,
   "metadata": {},
   "outputs": [],
   "source": [
    "# `itertools.filterfalse` returns only the elements for which the function returns False.\n",
    "def is_even(n):\n",
    "    return n % 2 == 0\n",
    "\n",
    "numbers = range(10)\n",
    "filtered_numbers = itertools.filterfalse(is_even, numbers)\n",
    "print(list(filtered_numbers))  # Output: [1, 3, 5, 7, 9]"
   ]
  },
  {
   "cell_type": "code",
   "execution_count": null,
   "metadata": {},
   "outputs": [],
   "source": [
    "# `itertools.accumulate` computes cumulative sums or other operations.\n",
    "numbers = [1, 2, 3, 4, 5]\n",
    "cumulative_sum = itertools.accumulate(numbers)\n",
    "print(list(cumulative_sum))  # Output: [1, 3, 6, 10, 15]"
   ]
  },
  {
   "cell_type": "code",
   "execution_count": null,
   "metadata": {},
   "outputs": [],
   "source": [
    "# `itertools.pairwise` returns consecutive pairs of elements from an iterable.\n",
    "numbers = [1, 2, 3, 4, 5]\n",
    "pairs = list(itertools.pairwise(numbers))\n",
    "print(pairs)  # Output: [(1, 2), (2, 3), (3, 4), (4, 5)]"
   ]
  },
  {
   "cell_type": "markdown",
   "metadata": {},
   "source": [
    "# For more details, refer to the official documentation:\n",
    "# https://docs.python.org/3/library/itertools.html"
   ]
  },
  {
   "cell_type": "markdown",
   "metadata": {},
   "source": [
    "# 6. The `yield from` Statement\n",
    "\n",
    "`yield from` is a shortcut for yielding all values from another iterable"
   ]
  },
  {
   "cell_type": "code",
   "execution_count": null,
   "metadata": {},
   "outputs": [],
   "source": [
    "def generator_chain():\n",
    "    yield from range(1, 4)\n",
    "    yield from ['a', 'b', 'c']\n",
    "\n",
    "for value in generator_chain():\n",
    "    print(value)  # Output: 1, 2, 3, 'a', 'b', 'c'"
   ]
  },
  {
   "cell_type": "code",
   "execution_count": null,
   "metadata": {},
   "outputs": [],
   "source": [
    "# The `yield from` syntax simplifies delegation to another generator.\n",
    "# Instead of writing multiple `yield` statements in a loop, we can directly yield from an iterable.\n",
    "\n",
    "def nested_generator():\n",
    "    yield from generator_chain()\n",
    "    yield \"End\"\n",
    "\n",
    "for value in nested_generator():\n",
    "    print(value)  # Output: 1, 2, 3, 'a', 'b', 'c', 'End'"
   ]
  },
  {
   "cell_type": "markdown",
   "metadata": {},
   "source": [
    "# 7. Generator with Return Statement"
   ]
  },
  {
   "cell_type": "code",
   "execution_count": null,
   "metadata": {},
   "outputs": [],
   "source": [
    "def generator_with_return():\n",
    "    yield 1\n",
    "    yield 2\n",
    "    return \"Done\"\n",
    "\n",
    "try:\n",
    "    gen = generator_with_return()\n",
    "    print(next(gen))  # Output: 1\n",
    "    print(next(gen))  # Output: 2\n",
    "    print(next(gen))  # Raises StopIteration(\"Done\")\n",
    "except StopIteration as e:\n",
    "    print(f\"Generator returned: {e.value}\")"
   ]
  },
  {
   "cell_type": "markdown",
   "metadata": {},
   "source": [
    "# 8. Using Generators in a Class"
   ]
  },
  {
   "cell_type": "code",
   "execution_count": null,
   "metadata": {},
   "outputs": [],
   "source": [
    "class SensorData:\n",
    "    def __init__(self, readings):\n",
    "        self.readings = readings\n",
    "\n",
    "    def __iter__(self):\n",
    "        for reading in self.readings:\n",
    "            yield reading\n",
    "\n",
    "# Example usage:\n",
    "sensor_readings = [23.4, 24.1, 22.8, 21.9]\n",
    "sensor = SensorData(sensor_readings)\n",
    "for data in sensor:\n",
    "    print(data)  # Output: 23.4, 24.1, 22.8, 21.9"
   ]
  }
 ],
 "metadata": {
  "kernelspec": {
   "display_name": ".venv",
   "language": "python",
   "name": "python3"
  },
  "language_info": {
   "codemirror_mode": {
    "name": "ipython",
    "version": 3
   },
   "file_extension": ".py",
   "mimetype": "text/x-python",
   "name": "python",
   "nbconvert_exporter": "python",
   "pygments_lexer": "ipython3",
   "version": "3.12.0"
  }
 },
 "nbformat": 4,
 "nbformat_minor": 2
}
