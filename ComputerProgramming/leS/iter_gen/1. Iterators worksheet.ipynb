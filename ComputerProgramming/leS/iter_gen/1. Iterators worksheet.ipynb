{
 "cells": [
  {
   "cell_type": "markdown",
   "metadata": {},
   "source": [
    "### Iterators in Python - Step by Step Guide\n",
    "\n",
    "# 1. Understanding Iterables and Iterators\n",
    "\n",
    "## 1.1 What is an Iterable?\n",
    "# An iterable is an object that can return its elements one at a time.\n",
    "# Lists, tuples, dictionaries, and strings are all iterable objects.\n"
   ]
  },
  {
   "cell_type": "code",
   "execution_count": 5,
   "metadata": {},
   "outputs": [
    {
     "name": "stdout",
     "output_type": "stream",
     "text": [
      "1\n",
      "2\n",
      "3\n"
     ]
    }
   ],
   "source": [
    "my_list = [1, 2, 3]\n",
    "for item in my_list:\n",
    "    print(item)  # Output: 1, 2, 3 (each in a new line)"
   ]
  },
  {
   "cell_type": "markdown",
   "metadata": {},
   "source": [
    "\n",
    "## 1.2 What is an Iterator?\n",
    "# An iterator is an object that implements the iterator protocol (has __iter__() and __next__())."
   ]
  },
  {
   "cell_type": "code",
   "execution_count": 6,
   "metadata": {},
   "outputs": [
    {
     "name": "stdout",
     "output_type": "stream",
     "text": [
      "1\n",
      "2\n",
      "3\n"
     ]
    }
   ],
   "source": [
    "iterator = iter(my_list)  # Convert iterable to iterator\n",
    "print(next(iterator))     # Output: 1\n",
    "print(next(iterator))     # Output: 2\n",
    "print(next(iterator))     # Output: 3"
   ]
  },
  {
   "cell_type": "code",
   "execution_count": 7,
   "metadata": {},
   "outputs": [
    {
     "ename": "StopIteration",
     "evalue": "",
     "output_type": "error",
     "traceback": [
      "\u001b[1;31m---------------------------------------------------------------------------\u001b[0m",
      "\u001b[1;31mStopIteration\u001b[0m                             Traceback (most recent call last)",
      "Cell \u001b[1;32mIn[7], line 1\u001b[0m\n\u001b[1;32m----> 1\u001b[0m \u001b[38;5;28mprint\u001b[39m(\u001b[38;5;28;43mnext\u001b[39;49m\u001b[43m(\u001b[49m\u001b[43miterator\u001b[49m\u001b[43m)\u001b[49m)  \u001b[38;5;66;03m# Raises StopIteration\u001b[39;00m\n",
      "\u001b[1;31mStopIteration\u001b[0m: "
     ]
    }
   ],
   "source": [
    "print(next(iterator))  # Raises StopIteration"
   ]
  },
  {
   "cell_type": "markdown",
   "metadata": {},
   "source": [
    "# 2. The Iterator Protocol\n",
    "\n",
    "## 2.1 Creating a Custom Iterator Class"
   ]
  },
  {
   "cell_type": "code",
   "execution_count": null,
   "metadata": {},
   "outputs": [],
   "source": [
    "class Counter:\n",
    "    def __init__(self, low, high):\n",
    "        \"\"\"Initialize the iterator with a starting and ending value.\n",
    "\n",
    "        Args:\n",
    "            low (int): The starting value of the iterator.\n",
    "            high (int): The ending value of the iterator.\n",
    "        \"\"\"\n",
    "        # TODO:\n",
    "\n",
    "    def __iter__(self):\n",
    "        \"\"\"Returns the iterator.\n",
    "\n",
    "        This method is called when an iterator is required for a container with.\n",
    "\n",
    "        Returns:\n",
    "            Counter: The iterator object itself.\n",
    "        \"\"\"\n",
    "        # TODO:\n",
    "\n",
    "    def __next__(self):\n",
    "        \"\"\"Returns the next number in the sequence.\n",
    "\n",
    "        Raises:\n",
    "            StopIteration: If the current number exceeds the high limit.\n",
    "\n",
    "        Returns:\n",
    "            int: The next number in the sequence.\n",
    "        \"\"\"\n",
    "        # TODO:"
   ]
  },
  {
   "cell_type": "code",
   "execution_count": 8,
   "metadata": {},
   "outputs": [
    {
     "ename": "NameError",
     "evalue": "name 'Counter' is not defined",
     "output_type": "error",
     "traceback": [
      "\u001b[1;31m---------------------------------------------------------------------------\u001b[0m",
      "\u001b[1;31mNameError\u001b[0m                                 Traceback (most recent call last)",
      "Cell \u001b[1;32mIn[8], line 2\u001b[0m\n\u001b[0;32m      1\u001b[0m \u001b[38;5;66;03m# Using the Counter iterator\u001b[39;00m\n\u001b[1;32m----> 2\u001b[0m counter \u001b[38;5;241m=\u001b[39m \u001b[43mCounter\u001b[49m(\u001b[38;5;241m1\u001b[39m, \u001b[38;5;241m5\u001b[39m)\n\u001b[0;32m      3\u001b[0m \u001b[38;5;28;01mfor\u001b[39;00m number \u001b[38;5;129;01min\u001b[39;00m counter:\n\u001b[0;32m      4\u001b[0m     \u001b[38;5;28mprint\u001b[39m(number)  \u001b[38;5;66;03m# Output: 1, 2, 3, 4, 5\u001b[39;00m\n",
      "\u001b[1;31mNameError\u001b[0m: name 'Counter' is not defined"
     ]
    }
   ],
   "source": [
    "# Using the Counter iterator\n",
    "counter = Counter(1, 5)\n",
    "for number in counter:\n",
    "    print(number)  # Output: 1, 2, 3, 4, 5"
   ]
  },
  {
   "cell_type": "markdown",
   "metadata": {},
   "source": [
    "# 3. Using iter() and next() Functions\n",
    "\n",
    "## 3.1 Using iter() and next() with a List"
   ]
  },
  {
   "cell_type": "code",
   "execution_count": 9,
   "metadata": {},
   "outputs": [
    {
     "name": "stdout",
     "output_type": "stream",
     "text": [
      "10\n",
      "20\n",
      "30\n"
     ]
    }
   ],
   "source": [
    "my_list = [10, 20, 30]\n",
    "iterator = iter(my_list)\n",
    "\n",
    "print(next(iterator))  # Output: 10\n",
    "print(next(iterator))  # Output: 20\n",
    "print(next(iterator))  # Output: 30"
   ]
  },
  {
   "cell_type": "code",
   "execution_count": null,
   "metadata": {},
   "outputs": [],
   "source": [
    "# Using next() with a default value\n",
    "print(next(iterator, 'End of list'))  # Output: End of list"
   ]
  },
  {
   "cell_type": "markdown",
   "metadata": {},
   "source": [
    "# 4. Creating Custom Iterators\n",
    "\n",
    "## 4.1 Custom Iterator to Generate Squares"
   ]
  },
  {
   "cell_type": "code",
   "execution_count": null,
   "metadata": {},
   "outputs": [],
   "source": [
    "class Squares:\n",
    "    # TODO:"
   ]
  },
  {
   "cell_type": "code",
   "execution_count": null,
   "metadata": {},
   "outputs": [],
   "source": [
    "squares = Squares(5)\n",
    "for square in squares:\n",
    "    print(square)  # Output: 1, 4, 9, 16, 25"
   ]
  },
  {
   "cell_type": "markdown",
   "metadata": {},
   "source": [
    "# 5. Real-World Example: File Reading"
   ]
  },
  {
   "cell_type": "code",
   "execution_count": null,
   "metadata": {},
   "outputs": [],
   "source": [
    "with open('sample.txt', 'w') as file:\n",
    "    file.write(\"First line\\nSecond line\\nThird line\")\n",
    "\n",
    "with open('sample.txt', 'r') as file:\n",
    "    for line in file:\n",
    "        print(line.strip())  # Reads file line by line"
   ]
  },
  {
   "cell_type": "markdown",
   "metadata": {},
   "source": [
    "# 6. Custom Range Iterator Example"
   ]
  },
  {
   "cell_type": "code",
   "execution_count": null,
   "metadata": {},
   "outputs": [],
   "source": [
    "class CustomRange:\n",
    "    def __init__(self, start, end, step=1):\n",
    "        self.current = start\n",
    "        self.end = end\n",
    "        self.step = step\n",
    "\n",
    "    def __iter__(self):\n",
    "        return self\n",
    "\n",
    "    def __next__(self):\n",
    "        if self.current >= self.end:\n",
    "            raise StopIteration\n",
    "        else:\n",
    "            current = self.current\n",
    "            self.current += self.step\n",
    "            return current\n",
    "\n",
    "for number in CustomRange(1, 10, 2):\n",
    "    print(number)  # Output: 1, 3, 5, 7, 9"
   ]
  }
 ],
 "metadata": {
  "kernelspec": {
   "display_name": ".venv",
   "language": "python",
   "name": "python3"
  },
  "language_info": {
   "codemirror_mode": {
    "name": "ipython",
    "version": 3
   },
   "file_extension": ".py",
   "mimetype": "text/x-python",
   "name": "python",
   "nbconvert_exporter": "python",
   "pygments_lexer": "ipython3",
   "version": "3.12.0"
  }
 },
 "nbformat": 4,
 "nbformat_minor": 2
}
